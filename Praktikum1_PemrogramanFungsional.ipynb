{
  "cells": [
    {
      "cell_type": "markdown",
      "metadata": {
        "id": "view-in-github",
        "colab_type": "text"
      },
      "source": [
        "<a href=\"https://colab.research.google.com/github/putrimhrn/Portofolio/blob/main/Praktikum1_PemrogramanFungsional.ipynb\" target=\"_parent\"><img src=\"https://colab.research.google.com/assets/colab-badge.svg\" alt=\"Open In Colab\"/></a>"
      ]
    },
    {
      "cell_type": "code",
      "execution_count": null,
      "metadata": {
        "id": "MIaJOH657UFQ"
      },
      "outputs": [],
      "source": [
        "def tambah(buku):\n",
        "  tambah=input(\"Masukkan buku baru : \")\n",
        "  buku.append(tambah)\n",
        "  return True"
      ]
    },
    {
      "cell_type": "code",
      "execution_count": null,
      "metadata": {
        "id": "aUNKu-GM99Lr"
      },
      "outputs": [],
      "source": [
        "def tampil(buku):\n",
        "  for x in buku:\n",
        "    print(\"* \" + x)"
      ]
    },
    {
      "cell_type": "code",
      "execution_count": null,
      "metadata": {
        "id": "MPAeqvLO8ts8"
      },
      "outputs": [],
      "source": [
        "def peminjaman(buku, bukuDipinjam):\n",
        "  print(\"Buku yang tersedia : \")\n",
        "  tampil(buku)\n",
        "  pinjam = input(\"Masukkan buku yang dipinjam : \")\n",
        "  if pinjam in buku and pinjam not in bukuDipinjam:\n",
        "    buku.remove(pinjam)\n",
        "    bukuDipinjam.append(pinjam)\n",
        "    return True\n",
        "  elif pinjam not in buku and pinjam in bukuDipinjam :\n",
        "    print(\"Buku sudah dipinjam\")\n",
        "    return True\n",
        "  else:\n",
        "    print(\"Buku tidak tersedia\")\n",
        "    return True "
      ]
    },
    {
      "cell_type": "code",
      "execution_count": null,
      "metadata": {
        "id": "Fd0tjWmnEWnj"
      },
      "outputs": [],
      "source": [
        "def pengembalian(buku, bukuDipinjam):\n",
        "  print(\"Buku yang dipinjam : \")\n",
        "  tampil(bukuDipinjam)\n",
        "  kembali = input(\"Masukkan buku yang dikembalikan : \")\n",
        "  if kembali in bukuDipinjam and kembali not in buku:\n",
        "    buku.append(kembali)\n",
        "    bukuDipinjam.remove(kembali)\n",
        "    return True\n",
        "  elif kembali not in bukuDipinjam and kembali in buku:\n",
        "    print(\"Buku belum dipinjam \")\n",
        "    return True \n",
        "  else:\n",
        "    print(\"Buku tidak tersedia\")\n",
        "    return True \n",
        "  "
      ]
    },
    {
      "cell_type": "code",
      "execution_count": null,
      "metadata": {
        "id": "gmHToKpe-FLZ"
      },
      "outputs": [],
      "source": [
        "def menuAdmin(buku, bukuDipinjam1, bukuDipinjam2):\n",
        "  while(True):\n",
        "    print(\"1. Tambah buku\")\n",
        "    print(\"2. Keluar\")\n",
        "    a = int(input(\"Masukkan pilihan : \"))\n",
        "    if a == 1:\n",
        "      tambah(buku)\n",
        "      tampil(buku)\n",
        "      tampil(bukuDipinjam1)\n",
        "      tampil(bukuDipinjam2)\n",
        "    elif a == 2:\n",
        "      break\n",
        "    else: \n",
        "      break"
      ]
    },
    {
      "cell_type": "code",
      "execution_count": null,
      "metadata": {
        "id": "579DUgg5DMBV"
      },
      "outputs": [],
      "source": [
        "def menuSiswa(buku, bukuDipinjam) :\n",
        "  while(True):\n",
        "    print(\"1. Pinjam\")\n",
        "    print(\"2. Pengembalian\")\n",
        "    print(\"3. Keluar \")\n",
        "    a = int(input(\"Masukkan pilihan :\"))\n",
        "    if a == 1:\n",
        "      peminjaman(buku, bukuDipinjam)\n",
        "    elif a == 2:\n",
        "      pengembalian(buku, bukuDipinjam)\n",
        "    elif a == 3:\n",
        "      break"
      ]
    },
    {
      "cell_type": "code",
      "execution_count": null,
      "metadata": {
        "colab": {
          "base_uri": "https://localhost:8080/",
          "height": 1000
        },
        "id": "lVICF670F-R7",
        "outputId": "95a6587d-5653-49db-9a36-5df408dc5386"
      },
      "outputs": [
        {
          "name": "stdout",
          "output_type": "stream",
          "text": [
            "Username : maharani\n",
            "Password : 456\n",
            "Hallo, Maharani\n",
            "1. Pinjam\n",
            "2. Pengembalian\n",
            "3. Keluar \n",
            "Masukkan pilihan :1\n",
            "Buku yang tersedia : \n",
            "* promdas\n",
            "* progfungsi\n",
            "* statistika\n",
            "* etprof\n",
            "Masukkan buku yang dipinjam : promdas\n",
            "1. Pinjam\n",
            "2. Pengembalian\n",
            "3. Keluar \n",
            "Masukkan pilihan :3\n",
            "Username : isnainiyah\n",
            "Password : 789\n",
            "Hallo, Isnainiyah\n",
            "1. Pinjam\n",
            "2. Pengembalian\n",
            "3. Keluar \n",
            "Masukkan pilihan :2\n",
            "Buku yang dipinjam : \n",
            "Masukkan buku yang dikembalikan : -\n",
            "Buku tidak tersedia\n",
            "1. Pinjam\n",
            "2. Pengembalian\n",
            "3. Keluar \n",
            "Masukkan pilihan :1\n",
            "Buku yang tersedia : \n",
            "* progfungsi\n",
            "* statistika\n",
            "* etprof\n",
            "Masukkan buku yang dipinjam : etprof\n",
            "1. Pinjam\n",
            "2. Pengembalian\n",
            "3. Keluar \n",
            "Masukkan pilihan :1\n",
            "Buku yang tersedia : \n",
            "* progfungsi\n",
            "* statistika\n",
            "Masukkan buku yang dipinjam : progfungsi\n",
            "1. Pinjam\n",
            "2. Pengembalian\n",
            "3. Keluar \n",
            "Masukkan pilihan :2\n",
            "Buku yang dipinjam : \n",
            "* etprof\n",
            "* progfungsi\n",
            "Masukkan buku yang dikembalikan : etprof\n",
            "1. Pinjam\n",
            "2. Pengembalian\n",
            "3. Keluar \n",
            "Masukkan pilihan :1\n",
            "Buku yang tersedia : \n",
            "* statistika\n",
            "* etprof\n",
            "Masukkan buku yang dipinjam : etprof\n",
            "1. Pinjam\n",
            "2. Pengembalian\n",
            "3. Keluar \n",
            "Masukkan pilihan :3\n",
            "Username : maharani\n",
            "Password : 456\n",
            "Hallo, Maharani\n",
            "1. Pinjam\n",
            "2. Pengembalian\n",
            "3. Keluar \n",
            "Masukkan pilihan :1\n",
            "Buku yang tersedia : \n",
            "* statistika\n",
            "Masukkan buku yang dipinjam : statistika\n",
            "1. Pinjam\n",
            "2. Pengembalian\n",
            "3. Keluar \n",
            "Masukkan pilihan :2\n",
            "Buku yang dipinjam : \n",
            "* promdas\n",
            "* statistika\n",
            "Masukkan buku yang dikembalikan : promdas\n",
            "1. Pinjam\n",
            "2. Pengembalian\n",
            "3. Keluar \n",
            "Masukkan pilihan :3\n",
            "Username : isnainiyah\n",
            "Password : 789\n",
            "Hallo, Isnainiyah\n",
            "1. Pinjam\n",
            "2. Pengembalian\n",
            "3. Keluar \n",
            "Masukkan pilihan :1\n",
            "Buku yang tersedia : \n",
            "* promdas\n",
            "Masukkan buku yang dipinjam : promdas\n",
            "1. Pinjam\n",
            "2. Pengembalian\n",
            "3. Keluar \n",
            "Masukkan pilihan :2\n",
            "Buku yang dipinjam : \n",
            "* progfungsi\n",
            "* etprof\n",
            "* promdas\n",
            "Masukkan buku yang dikembalikan : -\n",
            "Buku tidak tersedia\n",
            "1. Pinjam\n",
            "2. Pengembalian\n",
            "3. Keluar \n",
            "Masukkan pilihan :3\n"
          ]
        },
        {
          "output_type": "error",
          "ename": "KeyboardInterrupt",
          "evalue": "ignored",
          "traceback": [
            "\u001b[0;31m---------------------------------------------------------------------------\u001b[0m",
            "\u001b[0;31mKeyboardInterrupt\u001b[0m                         Traceback (most recent call last)",
            "\u001b[0;32m<ipython-input-9-01a4b2420556>\u001b[0m in \u001b[0;36m<module>\u001b[0;34m\u001b[0m\n\u001b[1;32m      4\u001b[0m \u001b[0mi\u001b[0m \u001b[0;34m=\u001b[0m \u001b[0;36m1\u001b[0m\u001b[0;34m\u001b[0m\u001b[0;34m\u001b[0m\u001b[0m\n\u001b[1;32m      5\u001b[0m \u001b[0;32mwhile\u001b[0m \u001b[0mi\u001b[0m \u001b[0;34m<\u001b[0m \u001b[0;36m10\u001b[0m\u001b[0;34m:\u001b[0m\u001b[0;34m\u001b[0m\u001b[0;34m\u001b[0m\u001b[0m\n\u001b[0;32m----> 6\u001b[0;31m   \u001b[0muser\u001b[0m \u001b[0;34m=\u001b[0m \u001b[0minput\u001b[0m\u001b[0;34m(\u001b[0m\u001b[0;34m\"Username : \"\u001b[0m\u001b[0;34m)\u001b[0m\u001b[0;34m\u001b[0m\u001b[0;34m\u001b[0m\u001b[0m\n\u001b[0m\u001b[1;32m      7\u001b[0m   \u001b[0msandi\u001b[0m \u001b[0;34m=\u001b[0m \u001b[0minput\u001b[0m\u001b[0;34m(\u001b[0m\u001b[0;34m\"Password : \"\u001b[0m\u001b[0;34m)\u001b[0m\u001b[0;34m\u001b[0m\u001b[0;34m\u001b[0m\u001b[0m\n\u001b[1;32m      8\u001b[0m   \u001b[0;32mif\u001b[0m \u001b[0muser\u001b[0m \u001b[0;34m==\u001b[0m \u001b[0;34m\"putri\"\u001b[0m \u001b[0;32mand\u001b[0m \u001b[0msandi\u001b[0m \u001b[0;34m==\u001b[0m \u001b[0;34m\"123\"\u001b[0m\u001b[0;34m:\u001b[0m\u001b[0;34m\u001b[0m\u001b[0;34m\u001b[0m\u001b[0m\n",
            "\u001b[0;32m/usr/local/lib/python3.7/dist-packages/ipykernel/kernelbase.py\u001b[0m in \u001b[0;36mraw_input\u001b[0;34m(self, prompt)\u001b[0m\n\u001b[1;32m    861\u001b[0m             \u001b[0mself\u001b[0m\u001b[0;34m.\u001b[0m\u001b[0m_parent_ident\u001b[0m\u001b[0;34m,\u001b[0m\u001b[0;34m\u001b[0m\u001b[0;34m\u001b[0m\u001b[0m\n\u001b[1;32m    862\u001b[0m             \u001b[0mself\u001b[0m\u001b[0;34m.\u001b[0m\u001b[0m_parent_header\u001b[0m\u001b[0;34m,\u001b[0m\u001b[0;34m\u001b[0m\u001b[0;34m\u001b[0m\u001b[0m\n\u001b[0;32m--> 863\u001b[0;31m             \u001b[0mpassword\u001b[0m\u001b[0;34m=\u001b[0m\u001b[0;32mFalse\u001b[0m\u001b[0;34m,\u001b[0m\u001b[0;34m\u001b[0m\u001b[0;34m\u001b[0m\u001b[0m\n\u001b[0m\u001b[1;32m    864\u001b[0m         )\n\u001b[1;32m    865\u001b[0m \u001b[0;34m\u001b[0m\u001b[0m\n",
            "\u001b[0;32m/usr/local/lib/python3.7/dist-packages/ipykernel/kernelbase.py\u001b[0m in \u001b[0;36m_input_request\u001b[0;34m(self, prompt, ident, parent, password)\u001b[0m\n\u001b[1;32m    902\u001b[0m             \u001b[0;32mexcept\u001b[0m \u001b[0mKeyboardInterrupt\u001b[0m\u001b[0;34m:\u001b[0m\u001b[0;34m\u001b[0m\u001b[0;34m\u001b[0m\u001b[0m\n\u001b[1;32m    903\u001b[0m                 \u001b[0;31m# re-raise KeyboardInterrupt, to truncate traceback\u001b[0m\u001b[0;34m\u001b[0m\u001b[0;34m\u001b[0m\u001b[0;34m\u001b[0m\u001b[0m\n\u001b[0;32m--> 904\u001b[0;31m                 \u001b[0;32mraise\u001b[0m \u001b[0mKeyboardInterrupt\u001b[0m\u001b[0;34m(\u001b[0m\u001b[0;34m\"Interrupted by user\"\u001b[0m\u001b[0;34m)\u001b[0m \u001b[0;32mfrom\u001b[0m \u001b[0;32mNone\u001b[0m\u001b[0;34m\u001b[0m\u001b[0;34m\u001b[0m\u001b[0m\n\u001b[0m\u001b[1;32m    905\u001b[0m             \u001b[0;32mexcept\u001b[0m \u001b[0mException\u001b[0m \u001b[0;32mas\u001b[0m \u001b[0me\u001b[0m\u001b[0;34m:\u001b[0m\u001b[0;34m\u001b[0m\u001b[0;34m\u001b[0m\u001b[0m\n\u001b[1;32m    906\u001b[0m                 \u001b[0mself\u001b[0m\u001b[0;34m.\u001b[0m\u001b[0mlog\u001b[0m\u001b[0;34m.\u001b[0m\u001b[0mwarning\u001b[0m\u001b[0;34m(\u001b[0m\u001b[0;34m\"Invalid Message:\"\u001b[0m\u001b[0;34m,\u001b[0m \u001b[0mexc_info\u001b[0m\u001b[0;34m=\u001b[0m\u001b[0;32mTrue\u001b[0m\u001b[0;34m)\u001b[0m\u001b[0;34m\u001b[0m\u001b[0;34m\u001b[0m\u001b[0m\n",
            "\u001b[0;31mKeyboardInterrupt\u001b[0m: Interrupted by user"
          ]
        }
      ],
      "source": [
        "buku = ['promdas', 'progfungsi', 'statistika', 'etprof']\n",
        "bukuDipinjam1 = []\n",
        "bukuDipinjam2 = []\n",
        "i = 1\n",
        "while i < 10:\n",
        "  user = input(\"Username : \")\n",
        "  sandi = input(\"Password : \")\n",
        "  if user == \"putri\" and sandi == \"123\":\n",
        "    print(\"Hai, Admin Putri\")\n",
        "    menuAdmin(buku, bukuDipinjam1, bukuDipinjam2)\n",
        "  elif user == \"maharani\" and sandi == \"456\":\n",
        "    print(\"Hallo, Maharani\")\n",
        "    menuSiswa(buku, bukuDipinjam1)\n",
        "  elif user == \"isnainiyah\" and sandi == \"789\":\n",
        "    print(\"Hallo, Isnainiyah\")\n",
        "    menuSiswa(buku, bukuDipinjam2)\n",
        "  else:\n",
        "    print(\"Akun tidak ada\")\n",
        "    continue\n"
      ]
    }
  ],
  "metadata": {
    "colab": {
      "provenance": [],
      "authorship_tag": "ABX9TyO1u+sgrsXxTbspQSwvM8AB",
      "include_colab_link": true
    },
    "kernelspec": {
      "display_name": "Python 3",
      "name": "python3"
    },
    "language_info": {
      "name": "python"
    }
  },
  "nbformat": 4,
  "nbformat_minor": 0
}